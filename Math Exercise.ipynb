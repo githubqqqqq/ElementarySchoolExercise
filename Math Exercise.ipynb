{
 "cells": [
  {
   "cell_type": "code",
   "execution_count": 99,
   "id": "2290d2fb-9558-4ddf-af33-c6c5c723bd3f",
   "metadata": {},
   "outputs": [],
   "source": [
    "list_all=[2,3,4,5,6,7,8,9,10,11,12]\n",
    "total=[]\n",
    "multi=[]\n",
    "divi=[]"
   ]
  },
  {
   "cell_type": "code",
   "execution_count": 100,
   "id": "a6393831-bb24-49f6-9991-a70e03dcd26d",
   "metadata": {},
   "outputs": [],
   "source": [
    "import pandas as pd"
   ]
  },
  {
   "cell_type": "code",
   "execution_count": 101,
   "id": "b5c1ec68-a1ff-4789-b194-ba46bbe93515",
   "metadata": {},
   "outputs": [],
   "source": [
    "for i in list_all:\n",
    "    for j in list_all:\n",
    "        total=i*j\n",
    "        multi.append(str(i)+' x '+str(j)+' = ____')\n",
    "        divi.append(str(total)+' ÷ '+str(i)+' = ____')"
   ]
  },
  {
   "cell_type": "code",
   "execution_count": 102,
   "id": "fbf242f2-2d4b-4472-acc2-b3649e161094",
   "metadata": {},
   "outputs": [],
   "source": [
    "import random"
   ]
  },
  {
   "cell_type": "code",
   "execution_count": 103,
   "id": "dcc34ff8-8e29-47a7-a1e8-f234291efe65",
   "metadata": {},
   "outputs": [],
   "source": [
    "random.shuffle(multi)"
   ]
  },
  {
   "cell_type": "code",
   "execution_count": 104,
   "id": "d3bcc6e7-8785-4303-bbd3-3baf05d21950",
   "metadata": {},
   "outputs": [],
   "source": [
    "random.shuffle(divi)"
   ]
  },
  {
   "cell_type": "code",
   "execution_count": 105,
   "id": "b8a1eeed-40ce-4c61-8560-21745db89c90",
   "metadata": {},
   "outputs": [
    {
     "data": {
      "text/plain": [
       "121"
      ]
     },
     "execution_count": 105,
     "metadata": {},
     "output_type": "execute_result"
    }
   ],
   "source": [
    "len(multi)"
   ]
  },
  {
   "cell_type": "code",
   "execution_count": 111,
   "id": "58449d82-7d60-4cac-9d2b-5d0200199a3b",
   "metadata": {},
   "outputs": [],
   "source": [
    "multi1 = [multi[0:30]][0]\n",
    "multi2 = [multi[31:61]][0]\n",
    "multi3 = [multi[62:92]][0]\n",
    "multi4 = [multi[93:120]][0]"
   ]
  },
  {
   "cell_type": "code",
   "execution_count": 112,
   "id": "1b285ad5-a56f-4032-9258-78b001185985",
   "metadata": {},
   "outputs": [],
   "source": [
    "divi1 = [divi[0:30]][0]\n",
    "divi2 = [divi[31:61]][0]\n",
    "divi3 = [divi[62:92]][0]\n",
    "divi4 = [divi[93:120]][0]"
   ]
  },
  {
   "cell_type": "code",
   "execution_count": 113,
   "id": "913f55a8-5bcf-4275-ad30-4d00391cc28e",
   "metadata": {},
   "outputs": [],
   "source": [
    "df1 = pd.DataFrame (multi1, columns = [''])\n",
    "df2 = pd.DataFrame (multi2, columns = [''])\n",
    "df3 = pd.DataFrame (multi3, columns = [''])\n",
    "df4 = pd.DataFrame (multi4, columns = [''])\n",
    " \n",
    "df5 = pd.DataFrame (divi1, columns = [''])\n",
    "df6 = pd.DataFrame (divi2, columns = [''])\n",
    "df7 = pd.DataFrame (divi3, columns = [''])\n",
    "df8 = pd.DataFrame (divi4, columns = [''])\n"
   ]
  },
  {
   "cell_type": "code",
   "execution_count": 88,
   "id": "8f934697-1a79-41f1-ab51-826560bcd443",
   "metadata": {},
   "outputs": [
    {
     "name": "stdout",
     "output_type": "stream",
     "text": [
      "Requirement already satisfied: pygsheets in /opt/conda/lib/python3.9/site-packages (2.0.5)\n",
      "Requirement already satisfied: google-api-python-client>=1.5.5 in /opt/conda/lib/python3.9/site-packages (from pygsheets) (2.50.0)\n",
      "Requirement already satisfied: google-auth-oauthlib in /opt/conda/lib/python3.9/site-packages (from pygsheets) (0.4.6)\n",
      "Requirement already satisfied: google-auth-httplib2>=0.1.0 in /opt/conda/lib/python3.9/site-packages (from google-api-python-client>=1.5.5->pygsheets) (0.1.0)\n",
      "Requirement already satisfied: google-api-core!=2.0.*,!=2.1.*,!=2.2.*,!=2.3.0,<3.0.0dev,>=1.31.5 in /opt/conda/lib/python3.9/site-packages (from google-api-python-client>=1.5.5->pygsheets) (2.8.1)\n",
      "Requirement already satisfied: httplib2<1dev,>=0.15.0 in /opt/conda/lib/python3.9/site-packages (from google-api-python-client>=1.5.5->pygsheets) (0.20.4)\n",
      "Requirement already satisfied: google-auth<3.0.0dev,>=1.16.0 in /opt/conda/lib/python3.9/site-packages (from google-api-python-client>=1.5.5->pygsheets) (2.6.2)\n",
      "Requirement already satisfied: uritemplate<5,>=3.0.1 in /opt/conda/lib/python3.9/site-packages (from google-api-python-client>=1.5.5->pygsheets) (4.1.1)\n",
      "Requirement already satisfied: requests-oauthlib>=0.7.0 in /opt/conda/lib/python3.9/site-packages (from google-auth-oauthlib->pygsheets) (1.3.0)\n",
      "Requirement already satisfied: requests<3.0.0dev,>=2.18.0 in /opt/conda/lib/python3.9/site-packages (from google-api-core!=2.0.*,!=2.1.*,!=2.2.*,!=2.3.0,<3.0.0dev,>=1.31.5->google-api-python-client>=1.5.5->pygsheets) (2.23.0)\n",
      "Requirement already satisfied: googleapis-common-protos<2.0dev,>=1.56.2 in /opt/conda/lib/python3.9/site-packages (from google-api-core!=2.0.*,!=2.1.*,!=2.2.*,!=2.3.0,<3.0.0dev,>=1.31.5->google-api-python-client>=1.5.5->pygsheets) (1.56.2)\n",
      "Requirement already satisfied: protobuf<4.0.0dev,>=3.15.0 in /opt/conda/lib/python3.9/site-packages (from google-api-core!=2.0.*,!=2.1.*,!=2.2.*,!=2.3.0,<3.0.0dev,>=1.31.5->google-api-python-client>=1.5.5->pygsheets) (3.19.4)\n",
      "Requirement already satisfied: pyasn1-modules>=0.2.1 in /opt/conda/lib/python3.9/site-packages (from google-auth<3.0.0dev,>=1.16.0->google-api-python-client>=1.5.5->pygsheets) (0.2.8)\n",
      "Requirement already satisfied: rsa<5,>=3.1.4 in /opt/conda/lib/python3.9/site-packages (from google-auth<3.0.0dev,>=1.16.0->google-api-python-client>=1.5.5->pygsheets) (4.8)\n",
      "Requirement already satisfied: six>=1.9.0 in /opt/conda/lib/python3.9/site-packages (from google-auth<3.0.0dev,>=1.16.0->google-api-python-client>=1.5.5->pygsheets) (1.15.0)\n",
      "Requirement already satisfied: cachetools<6.0,>=2.0.0 in /opt/conda/lib/python3.9/site-packages (from google-auth<3.0.0dev,>=1.16.0->google-api-python-client>=1.5.5->pygsheets) (5.0.0)\n",
      "Requirement already satisfied: pyparsing!=3.0.0,!=3.0.1,!=3.0.2,!=3.0.3,<4,>=2.4.2 in /opt/conda/lib/python3.9/site-packages (from httplib2<1dev,>=0.15.0->google-api-python-client>=1.5.5->pygsheets) (3.0.7)\n",
      "Requirement already satisfied: oauthlib>=3.0.0 in /opt/conda/lib/python3.9/site-packages (from requests-oauthlib>=0.7.0->google-auth-oauthlib->pygsheets) (3.1.0)\n",
      "Requirement already satisfied: pyasn1<0.5.0,>=0.4.6 in /opt/conda/lib/python3.9/site-packages (from pyasn1-modules>=0.2.1->google-auth<3.0.0dev,>=1.16.0->google-api-python-client>=1.5.5->pygsheets) (0.4.8)\n",
      "Requirement already satisfied: urllib3!=1.25.0,!=1.25.1,<1.26,>=1.21.1 in /opt/conda/lib/python3.9/site-packages (from requests<3.0.0dev,>=2.18.0->google-api-core!=2.0.*,!=2.1.*,!=2.2.*,!=2.3.0,<3.0.0dev,>=1.31.5->google-api-python-client>=1.5.5->pygsheets) (1.25.11)\n",
      "Requirement already satisfied: idna<3,>=2.5 in /opt/conda/lib/python3.9/site-packages (from requests<3.0.0dev,>=2.18.0->google-api-core!=2.0.*,!=2.1.*,!=2.2.*,!=2.3.0,<3.0.0dev,>=1.31.5->google-api-python-client>=1.5.5->pygsheets) (2.10)\n",
      "Requirement already satisfied: certifi>=2017.4.17 in /opt/conda/lib/python3.9/site-packages (from requests<3.0.0dev,>=2.18.0->google-api-core!=2.0.*,!=2.1.*,!=2.2.*,!=2.3.0,<3.0.0dev,>=1.31.5->google-api-python-client>=1.5.5->pygsheets) (2020.6.20)\n",
      "Requirement already satisfied: chardet<4,>=3.0.2 in /opt/conda/lib/python3.9/site-packages (from requests<3.0.0dev,>=2.18.0->google-api-core!=2.0.*,!=2.1.*,!=2.2.*,!=2.3.0,<3.0.0dev,>=1.31.5->google-api-python-client>=1.5.5->pygsheets) (3.0.4)\n",
      "Requirement already satisfied: gspread in /opt/conda/lib/python3.9/site-packages (5.4.0)\n",
      "Requirement already satisfied: google-auth>=1.12.0 in /opt/conda/lib/python3.9/site-packages (from gspread) (2.6.2)\n",
      "Requirement already satisfied: google-auth-oauthlib>=0.4.1 in /opt/conda/lib/python3.9/site-packages (from gspread) (0.4.6)\n",
      "Requirement already satisfied: six>=1.9.0 in /opt/conda/lib/python3.9/site-packages (from google-auth>=1.12.0->gspread) (1.15.0)\n",
      "Requirement already satisfied: pyasn1-modules>=0.2.1 in /opt/conda/lib/python3.9/site-packages (from google-auth>=1.12.0->gspread) (0.2.8)\n",
      "Requirement already satisfied: cachetools<6.0,>=2.0.0 in /opt/conda/lib/python3.9/site-packages (from google-auth>=1.12.0->gspread) (5.0.0)\n",
      "Requirement already satisfied: rsa<5,>=3.1.4 in /opt/conda/lib/python3.9/site-packages (from google-auth>=1.12.0->gspread) (4.8)\n",
      "Requirement already satisfied: requests-oauthlib>=0.7.0 in /opt/conda/lib/python3.9/site-packages (from google-auth-oauthlib>=0.4.1->gspread) (1.3.0)\n",
      "Requirement already satisfied: pyasn1<0.5.0,>=0.4.6 in /opt/conda/lib/python3.9/site-packages (from pyasn1-modules>=0.2.1->google-auth>=1.12.0->gspread) (0.4.8)\n",
      "Requirement already satisfied: requests>=2.0.0 in /opt/conda/lib/python3.9/site-packages (from requests-oauthlib>=0.7.0->google-auth-oauthlib>=0.4.1->gspread) (2.23.0)\n",
      "Requirement already satisfied: oauthlib>=3.0.0 in /opt/conda/lib/python3.9/site-packages (from requests-oauthlib>=0.7.0->google-auth-oauthlib>=0.4.1->gspread) (3.1.0)\n",
      "Requirement already satisfied: certifi>=2017.4.17 in /opt/conda/lib/python3.9/site-packages (from requests>=2.0.0->requests-oauthlib>=0.7.0->google-auth-oauthlib>=0.4.1->gspread) (2020.6.20)\n",
      "Requirement already satisfied: chardet<4,>=3.0.2 in /opt/conda/lib/python3.9/site-packages (from requests>=2.0.0->requests-oauthlib>=0.7.0->google-auth-oauthlib>=0.4.1->gspread) (3.0.4)\n",
      "Requirement already satisfied: urllib3!=1.25.0,!=1.25.1,<1.26,>=1.21.1 in /opt/conda/lib/python3.9/site-packages (from requests>=2.0.0->requests-oauthlib>=0.7.0->google-auth-oauthlib>=0.4.1->gspread) (1.25.11)\n",
      "Requirement already satisfied: idna<3,>=2.5 in /opt/conda/lib/python3.9/site-packages (from requests>=2.0.0->requests-oauthlib>=0.7.0->google-auth-oauthlib>=0.4.1->gspread) (2.10)\n"
     ]
    }
   ],
   "source": [
    "!pip install pygsheets\n",
    "!pip install gspread"
   ]
  },
  {
   "cell_type": "code",
   "execution_count": 96,
   "id": "717968d0-10be-4a3a-867f-7d43ff80cd9d",
   "metadata": {},
   "outputs": [],
   "source": [
    "import pygsheets\n",
    "import gspread\n",
    "##https://pygsheets.readthedocs.io/en/stable/authorization.html\n",
    "\n",
    "gc = pygsheets.authorize(service_file='automated-meu-counts-16814de59b4a.json')\n",
    "sh=gc.open_by_url('https://docs.google.com/spreadsheets/d/1zg6OMBy9QdT-pjF3J_gMcGm7pgbfc-vY0kDFKxG-8uM/edit?usp=sharing')\n",
    "\n",
    "worksheet1 = sh.worksheet_by_title(\"Multiplication\")\n",
    "worksheet2 = sh.worksheet_by_title(\"Division\")"
   ]
  },
  {
   "cell_type": "code",
   "execution_count": 114,
   "id": "89e5e7d4-6334-4993-9a2b-ebc55297980d",
   "metadata": {},
   "outputs": [],
   "source": [
    "worksheet1.clear(\"A1\",\"E1000\")\n",
    "worksheet1.set_dataframe(df1, 'A1')\n",
    "worksheet1.set_dataframe(df2, 'B1')\n",
    "worksheet1.set_dataframe(df3, 'C1') \n",
    "worksheet1.set_dataframe(df4, 'D1') "
   ]
  },
  {
   "cell_type": "code",
   "execution_count": 117,
   "id": "a2b29911-6b64-4500-9f7a-ceec22f8ef46",
   "metadata": {},
   "outputs": [],
   "source": [
    "worksheet2.clear(\"A1\",\"E1000\")\n",
    "worksheet2.set_dataframe(df5, 'A1')\n",
    "worksheet2.set_dataframe(df6, 'B1')\n",
    "worksheet2.set_dataframe(df7, 'C1')\n",
    "worksheet2.set_dataframe(df8, 'D1')"
   ]
  },
  {
   "cell_type": "code",
   "execution_count": null,
   "id": "bc7241ae-71de-430e-876c-7203c4c0a348",
   "metadata": {},
   "outputs": [],
   "source": []
  },
  {
   "cell_type": "code",
   "execution_count": null,
   "id": "f7a98b2e-b120-428a-82fe-356394411022",
   "metadata": {},
   "outputs": [],
   "source": []
  },
  {
   "cell_type": "code",
   "execution_count": null,
   "id": "91b9dd13-f2d3-4026-bd83-9193118c7496",
   "metadata": {},
   "outputs": [],
   "source": []
  }
 ],
 "metadata": {
  "kernelspec": {
   "display_name": "Python 3 (ipykernel)",
   "language": "python",
   "name": "python3"
  },
  "language_info": {
   "codemirror_mode": {
    "name": "ipython",
    "version": 3
   },
   "file_extension": ".py",
   "mimetype": "text/x-python",
   "name": "python",
   "nbconvert_exporter": "python",
   "pygments_lexer": "ipython3",
   "version": "3.9.10"
  }
 },
 "nbformat": 4,
 "nbformat_minor": 5
}
